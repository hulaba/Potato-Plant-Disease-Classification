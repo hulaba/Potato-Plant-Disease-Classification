{
 "cells": [
  {
   "cell_type": "code",
   "execution_count": 1,
   "id": "7347a29e",
   "metadata": {},
   "outputs": [
    {
     "data": {
      "text/plain": [
       "[PhysicalDevice(name='/physical_device:CPU:0', device_type='CPU'),\n",
       " PhysicalDevice(name='/physical_device:GPU:0', device_type='GPU')]"
      ]
     },
     "execution_count": 1,
     "metadata": {},
     "output_type": "execute_result"
    }
   ],
   "source": [
    "import numpy as np\n",
    "import tensorflow as tf\n",
    "from tensorflow.keras import models,layers\n",
    "import matplotlib.pyplot as plt\n",
    "import splitfolders\n",
    "import os\n",
    "tf.config.get_visible_devices()"
   ]
  },
  {
   "cell_type": "code",
   "execution_count": null,
   "id": "ff02f182",
   "metadata": {},
   "outputs": [],
   "source": [
    "splitfolders.ratio(r\"C:\\Users\\Sathwik\\Plant Disease classification\\potato\", output=\"output\", seed=1337, ratio=(.8, .1, .1), group_prefix=None)"
   ]
  },
  {
   "cell_type": "code",
   "execution_count": 2,
   "id": "6a98b342",
   "metadata": {},
   "outputs": [],
   "source": [
    "train_path = r\"C:\\Users\\Sathwik\\Plant Disease classification\\output\\train\"\n",
    "val_path = r\"C:\\Users\\Sathwik\\Plant Disease classification\\output\\val\"\n",
    "test_path = r\"C:\\Users\\Sathwik\\Plant Disease classification\\output\\test\""
   ]
  },
  {
   "cell_type": "code",
   "execution_count": null,
   "id": "07467b34",
   "metadata": {},
   "outputs": [],
   "source": [
    "LABELS = os.listdir(train_path)\n",
    "\n",
    "imagedatagen = tf.keras.preprocessing.image.ImageDataGenerator(\n",
    "        shear_range=0.2,\n",
    "        zoom_range=0.2,\n",
    "        width_shift_range=0.1,\n",
    "        height_shift_range=0.1,\n",
    "        horizontal_flip=True,\n",
    "        )\n",
    "\n",
    "for label in LABELS:\n",
    "    imagedatagen = tf.keras.preprocessing.image.ImageDataGenerator(\n",
    "        rescale=1./255,\n",
    "        shear_range=0.2,\n",
    "        zoom_range=0.2,\n",
    "        width_shift_range=0.1,\n",
    "        height_shift_range=0.1,\n",
    "        horizontal_flip=True)\n",
    "    \n",
    "    augm = imagedatagen.flow_from_directory(train_path,\n",
    "                                     save_to_dir=train_path+\"\\\\\"+label,\n",
    "                                     target_size=(256, 256),\n",
    "                                     classes=[label],\n",
    "                                     batch_size=7000)\n",
    "    for i in range(len(augm)*5):\n",
    "        batch = next(augm) "
   ]
  },
  {
   "cell_type": "code",
   "execution_count": 3,
   "id": "95ca2716",
   "metadata": {},
   "outputs": [
    {
     "name": "stdout",
     "output_type": "stream",
     "text": [
      "Found 10326 files belonging to 3 classes.\n",
      "Found 215 files belonging to 3 classes.\n",
      "Found 216 files belonging to 3 classes.\n"
     ]
    }
   ],
   "source": [
    "import tensorflow_datasets as tfds\n",
    "batch_size = 32\n",
    "img_height = 256\n",
    "img_width = 256\n",
    "\n",
    "train_ds = tf.keras.preprocessing.image_dataset_from_directory(\n",
    "  train_path,\n",
    "  label_mode='categorical',\n",
    "  seed=123,\n",
    "  image_size=(img_height, img_width),\n",
    "  batch_size=batch_size)\n",
    "\n",
    "\n",
    "val_ds = tf.keras.preprocessing.image_dataset_from_directory(\n",
    "  val_path,\n",
    "  label_mode='categorical',\n",
    "  seed=123,\n",
    "  image_size=(img_height, img_width),\n",
    "  batch_size=batch_size)\n",
    "\n",
    "test_ds = tf.keras.preprocessing.image_dataset_from_directory(\n",
    "  test_path,\n",
    "  label_mode='categorical',\n",
    "  seed=123,\n",
    "  image_size=(img_height, img_width),\n",
    "  batch_size=batch_size)\n",
    "\n",
    "#normalization_layer = tf.keras.layers.experimental.preprocessing.Rescaling(1./255)\n",
    "\n",
    "#train_ds = train_ds.map(lambda x, y: (normalization_layer(x), y))\n",
    "#val_ds = val_ds.map(lambda x, y: (normalization_layer(x), y))\n",
    "\n",
    "AUTOTUNE = tf.data.AUTOTUNE\n",
    "\n",
    "def configure_for_performance(ds):\n",
    "    ds = ds.cache()\n",
    "    ds = ds.shuffle(buffer_size=1000)\n",
    "    ds = ds.prefetch(buffer_size=AUTOTUNE)\n",
    "    return ds\n",
    "\n",
    "train_ds = configure_for_performance(train_ds)\n",
    "val_ds = configure_for_performance(val_ds)"
   ]
  },
  {
   "cell_type": "code",
   "execution_count": 25,
   "id": "adb86177",
   "metadata": {},
   "outputs": [],
   "source": [
    "Input_shape=(256,256,3)\n",
    "model = models.Sequential()\n",
    "model.add(layers.experimental.preprocessing.Rescaling(1./255))\n",
    "model.add(layers.Conv2D(32, (3, 3), activation='relu', input_shape=Input_shape))\n",
    "model.add(layers.MaxPooling2D((2, 2)))\n",
    "\n",
    "model.add(layers.Conv2D(64, (3, 3), activation='relu'))\n",
    "model.add(layers.MaxPooling2D((2, 2)))\n",
    "\n",
    "model.add(layers.Conv2D(128, (3, 3), activation='relu'))\n",
    "model.add(layers.MaxPooling2D((2, 2)))\n",
    "model.add(layers.Dropout(0.5))\n",
    "\n",
    "model.add(layers.Conv2D(64, (3, 3), activation='relu'))\n",
    "model.add(layers.MaxPooling2D((2, 2)))\n",
    "\n",
    "model.add(layers.Conv2D(64, (3, 3), activation='relu'))\n",
    "model.add(layers.MaxPooling2D((2, 2)))\n",
    "model.add(layers.Dropout(0.3))\n",
    "\n",
    "model.add(layers.Conv2D(64, (3, 3), activation='relu'))\n",
    "model.add(layers.MaxPooling2D((2, 2)))\n",
    "\n",
    "\n",
    "model.add(layers.Flatten())\n",
    "\n",
    "model.add(layers.Dense(64, activation='relu'))\n",
    "model.add(layers.Dense(3, activation='softmax'))\n",
    "\n",
    "model.compile(optimizer='adam',\n",
    "              loss='categorical_crossentropy',\n",
    "              metrics=['accuracy'])\n",
    "\n",
    "checkpoint = tf.keras.callbacks.ModelCheckpoint(\"weights.{epoch:02d}-{val_loss:.2f}.hdf5\", \n",
    "                                monitor='val_loss', verbose=1, save_best_only=False, save_weights_only=False, mode='auto', save_freq=\"epoch\")"
   ]
  },
  {
   "cell_type": "code",
   "execution_count": 26,
   "id": "601463ac",
   "metadata": {},
   "outputs": [
    {
     "name": "stdout",
     "output_type": "stream",
     "text": [
      "Epoch 1/24\n",
      "323/323 [==============================] - 90s 275ms/step - loss: 0.5090 - accuracy: 0.7597 - val_loss: 0.2472 - val_accuracy: 0.8977\n",
      "\n",
      "Epoch 00001: saving model to weights.01-0.25.hdf5\n",
      "Epoch 2/24\n",
      "323/323 [==============================] - 92s 285ms/step - loss: 0.2237 - accuracy: 0.9101 - val_loss: 0.2090 - val_accuracy: 0.9256\n",
      "\n",
      "Epoch 00002: saving model to weights.02-0.21.hdf5\n",
      "Epoch 3/24\n",
      "323/323 [==============================] - 89s 277ms/step - loss: 0.1524 - accuracy: 0.9389 - val_loss: 0.2506 - val_accuracy: 0.9395\n",
      "\n",
      "Epoch 00003: saving model to weights.03-0.25.hdf5\n",
      "Epoch 4/24\n",
      "323/323 [==============================] - 92s 285ms/step - loss: 0.1240 - accuracy: 0.9525 - val_loss: 0.1802 - val_accuracy: 0.9395\n",
      "\n",
      "Epoch 00004: saving model to weights.04-0.18.hdf5\n",
      "Epoch 5/24\n",
      "323/323 [==============================] - 90s 279ms/step - loss: 0.0972 - accuracy: 0.9601 - val_loss: 0.1494 - val_accuracy: 0.9628\n",
      "\n",
      "Epoch 00005: saving model to weights.05-0.15.hdf5\n",
      "Epoch 6/24\n",
      "323/323 [==============================] - 92s 286ms/step - loss: 0.0765 - accuracy: 0.9724 - val_loss: 0.0816 - val_accuracy: 0.9767\n",
      "\n",
      "Epoch 00006: saving model to weights.06-0.08.hdf5\n",
      "Epoch 7/24\n",
      "323/323 [==============================] - 94s 291ms/step - loss: 0.0539 - accuracy: 0.9790 - val_loss: 0.1006 - val_accuracy: 0.9581\n",
      "\n",
      "Epoch 00007: saving model to weights.07-0.10.hdf5\n",
      "Epoch 8/24\n",
      "323/323 [==============================] - 94s 292ms/step - loss: 0.0491 - accuracy: 0.9826 - val_loss: 0.0684 - val_accuracy: 0.9814\n",
      "\n",
      "Epoch 00008: saving model to weights.08-0.07.hdf5\n",
      "Epoch 9/24\n",
      "323/323 [==============================] - 92s 284ms/step - loss: 0.0412 - accuracy: 0.9848 - val_loss: 0.1245 - val_accuracy: 0.9581\n",
      "\n",
      "Epoch 00009: saving model to weights.09-0.12.hdf5\n",
      "Epoch 10/24\n",
      "323/323 [==============================] - 93s 287ms/step - loss: 0.0374 - accuracy: 0.9862 - val_loss: 0.0550 - val_accuracy: 0.9721\n",
      "\n",
      "Epoch 00010: saving model to weights.10-0.05.hdf5\n",
      "Epoch 11/24\n",
      "323/323 [==============================] - 94s 292ms/step - loss: 0.0343 - accuracy: 0.9870 - val_loss: 0.0443 - val_accuracy: 0.9860\n",
      "\n",
      "Epoch 00011: saving model to weights.11-0.04.hdf5\n",
      "Epoch 12/24\n",
      "323/323 [==============================] - 93s 287ms/step - loss: 0.0327 - accuracy: 0.9864 - val_loss: 0.0434 - val_accuracy: 0.9907\n",
      "\n",
      "Epoch 00012: saving model to weights.12-0.04.hdf5\n",
      "Epoch 13/24\n",
      "323/323 [==============================] - 95s 293ms/step - loss: 0.0216 - accuracy: 0.9918 - val_loss: 0.0749 - val_accuracy: 0.9767\n",
      "\n",
      "Epoch 00013: saving model to weights.13-0.07.hdf5\n",
      "Epoch 14/24\n",
      "323/323 [==============================] - 97s 299ms/step - loss: 0.0300 - accuracy: 0.9887 - val_loss: 0.0481 - val_accuracy: 0.9767\n",
      "\n",
      "Epoch 00014: saving model to weights.14-0.05.hdf5\n",
      "Epoch 15/24\n",
      "323/323 [==============================] - 97s 300ms/step - loss: 0.0197 - accuracy: 0.9920 - val_loss: 0.0646 - val_accuracy: 0.9814\n",
      "\n",
      "Epoch 00015: saving model to weights.15-0.06.hdf5\n",
      "Epoch 16/24\n",
      "323/323 [==============================] - 94s 290ms/step - loss: 0.0196 - accuracy: 0.9936 - val_loss: 0.0456 - val_accuracy: 0.9860\n",
      "\n",
      "Epoch 00016: saving model to weights.16-0.05.hdf5\n",
      "Epoch 17/24\n",
      "323/323 [==============================] - 93s 288ms/step - loss: 0.0355 - accuracy: 0.9886 - val_loss: 0.0684 - val_accuracy: 0.9814\n",
      "\n",
      "Epoch 00017: saving model to weights.17-0.07.hdf5\n",
      "Epoch 18/24\n",
      "323/323 [==============================] - 100s 308ms/step - loss: 0.0301 - accuracy: 0.9883 - val_loss: 0.0431 - val_accuracy: 0.9860\n",
      "\n",
      "Epoch 00018: saving model to weights.18-0.04.hdf5\n",
      "Epoch 19/24\n",
      "323/323 [==============================] - 95s 293ms/step - loss: 0.0162 - accuracy: 0.9943 - val_loss: 0.0997 - val_accuracy: 0.9674\n",
      "\n",
      "Epoch 00019: saving model to weights.19-0.10.hdf5\n",
      "Epoch 20/24\n",
      "323/323 [==============================] - 97s 299ms/step - loss: 0.0248 - accuracy: 0.9905 - val_loss: 0.0701 - val_accuracy: 0.9814\n",
      "\n",
      "Epoch 00020: saving model to weights.20-0.07.hdf5\n",
      "Epoch 21/24\n",
      "323/323 [==============================] - 99s 307ms/step - loss: 0.0189 - accuracy: 0.9936 - val_loss: 0.0849 - val_accuracy: 0.9814\n",
      "\n",
      "Epoch 00021: saving model to weights.21-0.08.hdf5\n",
      "Epoch 22/24\n",
      "323/323 [==============================] - 96s 298ms/step - loss: 0.0184 - accuracy: 0.9941 - val_loss: 0.1040 - val_accuracy: 0.9767\n",
      "\n",
      "Epoch 00022: saving model to weights.22-0.10.hdf5\n",
      "Epoch 23/24\n",
      "323/323 [==============================] - 100s 311ms/step - loss: 0.0172 - accuracy: 0.9937 - val_loss: 0.0165 - val_accuracy: 0.9953\n",
      "\n",
      "Epoch 00023: saving model to weights.23-0.02.hdf5\n",
      "Epoch 24/24\n",
      "323/323 [==============================] - 109s 337ms/step - loss: 0.0188 - accuracy: 0.9937 - val_loss: 0.0594 - val_accuracy: 0.9860\n",
      "\n",
      "Epoch 00024: saving model to weights.24-0.06.hdf5\n"
     ]
    }
   ],
   "source": [
    "history = model.fit(train_ds , epochs=24, \n",
    "                    validation_data=val_ds,\n",
    "                    verbose=1,\n",
    "                    callbacks=[checkpoint])"
   ]
  },
  {
   "cell_type": "code",
   "execution_count": 27,
   "id": "aed34217",
   "metadata": {},
   "outputs": [
    {
     "data": {
      "image/png": "[encoded data removed]",
      "text/plain": [
       "<Figure size 640x480 with 1 Axes>"
      ]
     },
     "metadata": {},
     "output_type": "display_data"
    }
   ],
   "source": [
    "plt.plot(history.history['accuracy'], label='accuracy')\n",
    "plt.plot(history.history['val_accuracy'], label = 'val_accuracy')\n",
    "plt.xlabel('Epoch')\n",
    "plt.ylabel('Accuracy')\n",
    "plt.ylim([0.5, 1])\n",
    "plt.legend(loc='lower right')\n",
    "plt.show()\n",
    "\n",
    "#evalu = model.evaluate(test, verbose=1)"
   ]
  },
  {
   "cell_type": "code",
   "execution_count": 28,
   "id": "7874ffed",
   "metadata": {},
   "outputs": [
    {
     "name": "stdout",
     "output_type": "stream",
     "text": [
      "7/7 [==============================] - 1s 59ms/step - loss: 0.0829 - accuracy: 0.9861\n"
     ]
    }
   ],
   "source": [
    "evalu = model.evaluate(test_ds, verbose=1)"
   ]
  },
  {
   "cell_type": "code",
   "execution_count": 29,
   "id": "e9e5e0eb",
   "metadata": {},
   "outputs": [],
   "source": [
    "new_model = tf.keras.models.load_model('weights.23-0.02.hdf5')"
   ]
  },
  {
   "cell_type": "code",
   "execution_count": 30,
   "id": "eaf58950",
   "metadata": {},
   "outputs": [
    {
     "name": "stdout",
     "output_type": "stream",
     "text": [
      "7/7 [==============================] - 1s 62ms/step - loss: 0.0689 - accuracy: 0.9907\n"
     ]
    },
    {
     "data": {
      "text/plain": [
       "[0.0688868835568428, 0.9907407164573669]"
      ]
     },
     "execution_count": 30,
     "metadata": {},
     "output_type": "execute_result"
    }
   ],
   "source": [
    "new_model.evaluate(test_ds, verbose=1)"
   ]
  },
  {
   "cell_type": "code",
   "execution_count": null,
   "id": "f679a177",
   "metadata": {},
   "outputs": [],
   "source": []
  }
 ],
 "metadata": {
  "kernelspec": {
   "display_name": "Python 3",
   "language": "python",
   "name": "python3"
  },
  "language_info": {
   "codemirror_mode": {
    "name": "ipython",
    "version": 3
   },
   "file_extension": ".py",
   "mimetype": "text/x-python",
   "name": "python",
   "nbconvert_exporter": "python",
   "pygments_lexer": "ipython3",
   "version": "3.8.11"
  }
 },
 "nbformat": 4,
 "nbformat_minor": 5
}
